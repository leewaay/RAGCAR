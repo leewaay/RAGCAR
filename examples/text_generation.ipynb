{
 "cells": [
  {
   "cell_type": "code",
   "execution_count": 1,
   "metadata": {},
   "outputs": [],
   "source": [
    "from ragcar import Ragcar\n",
    "from ragcar.utils import PromptTemplate"
   ]
  },
  {
   "cell_type": "code",
   "execution_count": 2,
   "metadata": {},
   "outputs": [
    {
     "data": {
      "text/plain": [
       "'Available models for text_generation are ([src]: openai, [model]: gpt-4-turbo-preview, gpt-4, gpt-3.5-turbo, MODELS_SUPPORTED(https://platform.openai.com/docs/models)), ([src]: clova, [model]: YOUR_MODEL(https://www.ncloud.com/product/aiService/clovaStudio))'"
      ]
     },
     "execution_count": 2,
     "metadata": {},
     "output_type": "execute_result"
    }
   ],
   "source": [
    "Ragcar.available_models(\"text_generation\")"
   ]
  },
  {
   "cell_type": "markdown",
   "metadata": {},
   "source": [
    "# Parameters for Prediction\n",
    "* prompt_template: PromptTemplate,\n",
    "* max_tokens: int=1000,\n",
    "* temperature: float=0.1 if src == 'clova' else 0.,\n",
    "* top_p: float=1.,\n",
    "* frequency_penalty: float=0.1 if src == 'clova' else 0., \n",
    "* presence_penalty: int=0 if src == 'clova' else float=0.,\n",
    "* stop_before: Optional[list] = None,\n",
    "* functions: Optional[list] = None,\n",
    "* stream: Optional[bool] = False, \n",
    "* use_async: bool = False, \n",
    "* formatting: Optional[bool] = False"
   ]
  },
  {
   "cell_type": "markdown",
   "metadata": {},
   "source": [
    "# Models"
   ]
  },
  {
   "cell_type": "markdown",
   "metadata": {},
   "source": [
    "## [OpenAI](https://platform.openai.com/docs/api-reference)\n",
    "`.env` 파일 또는 환경 변수로 `OPENAI_API_KEY`를 설정하거나 다음과 같이 직접 변수를 입력합니다.\n",
    "* model_n: 모델명\n",
    "* api_key: OPENAI_API_KEY"
   ]
  },
  {
   "cell_type": "code",
   "execution_count": 3,
   "metadata": {},
   "outputs": [
    {
     "data": {
      "text/plain": [
       "'Available fields for openai are ([field]: model_n, [type]: str), ([field]: api_key, [type]: str)'"
      ]
     },
     "execution_count": 3,
     "metadata": {},
     "output_type": "execute_result"
    }
   ],
   "source": [
    "Ragcar.available_model_fields(\"openai\")"
   ]
  },
  {
   "cell_type": "code",
   "execution_count": 4,
   "metadata": {},
   "outputs": [
    {
     "data": {
      "text/plain": [
       "True"
      ]
     },
     "execution_count": 4,
     "metadata": {},
     "output_type": "execute_result"
    }
   ],
   "source": [
    "import os\n",
    "from dotenv import load_dotenv\n",
    "\n",
    "load_dotenv()"
   ]
  },
  {
   "cell_type": "code",
   "execution_count": 5,
   "metadata": {},
   "outputs": [],
   "source": [
    "generator = Ragcar(\n",
    "    tool=\"text_generation\", \n",
    "    src=\"openai\",\n",
    "    model={\n",
    "        \"model_n\": \"gpt-4-turbo-preview\",\n",
    "        \"api_key\": os.getenv('OPENAI_API_KEY')\n",
    "    },\n",
    "    prompt_template=PromptTemplate(\"사용자: {input} 수도는?\\nAI:\"), \n",
    "    max_tokens=100,\n",
    ")"
   ]
  },
  {
   "cell_type": "code",
   "execution_count": 6,
   "metadata": {},
   "outputs": [
    {
     "data": {
      "text/plain": [
       "<OpenAIObject chat.completion id=chatcmpl-92adM64BK1xS76vUFVn9AxCDHQ7BN at 0x7f9b488f0770> JSON: {\n",
       "  \"id\": \"chatcmpl-92adM64BK1xS76vUFVn9AxCDHQ7BN\",\n",
       "  \"object\": \"chat.completion\",\n",
       "  \"created\": 1710404504,\n",
       "  \"model\": \"gpt-4-0125-preview\",\n",
       "  \"choices\": [\n",
       "    {\n",
       "      \"index\": 0,\n",
       "      \"message\": {\n",
       "        \"role\": \"assistant\",\n",
       "        \"content\": \"\\ub300\\ud55c\\ubbfc\\uad6d\\uc758 \\uc218\\ub3c4\\ub294 \\uc11c\\uc6b8\\uc785\\ub2c8\\ub2e4.\"\n",
       "      },\n",
       "      \"logprobs\": null,\n",
       "      \"finish_reason\": \"stop\"\n",
       "    }\n",
       "  ],\n",
       "  \"usage\": {\n",
       "    \"prompt_tokens\": 23,\n",
       "    \"completion_tokens\": 15,\n",
       "    \"total_tokens\": 38\n",
       "  },\n",
       "  \"system_fingerprint\": \"fp_31c0f205d1\"\n",
       "}"
      ]
     },
     "execution_count": 6,
     "metadata": {},
     "output_type": "execute_result"
    }
   ],
   "source": [
    "generator(input=\"대한민국\")"
   ]
  },
  {
   "cell_type": "markdown",
   "metadata": {},
   "source": [
    "### Formatting"
   ]
  },
  {
   "cell_type": "code",
   "execution_count": 7,
   "metadata": {},
   "outputs": [],
   "source": [
    "generator = Ragcar(\n",
    "    tool=\"text_generation\", \n",
    "    src=\"openai\",\n",
    "    prompt_template=PromptTemplate(\"사용자: {input} 수도는?\\nAI:\"), \n",
    "    max_tokens=100,\n",
    "    formatting=True\n",
    ")"
   ]
  },
  {
   "cell_type": "code",
   "execution_count": 8,
   "metadata": {},
   "outputs": [
    {
     "data": {
      "text/plain": [
       "{'id': 'openai-0548e3c2-dbf9-4f37-95c9-13f3653673c0',\n",
       " 'model': 'gpt-4-turbo-preview',\n",
       " 'content': '대한민국의 수도는 서울입니다.',\n",
       " 'finish_reason': 'stop',\n",
       " 'input_tokens': 23,\n",
       " 'output_tokens': 15,\n",
       " 'total_tokens': 38,\n",
       " 'predicted_cost': 0.0015899999999999998,\n",
       " 'response_time': 5.023842096328735}"
      ]
     },
     "execution_count": 8,
     "metadata": {},
     "output_type": "execute_result"
    }
   ],
   "source": [
    "generator(input=\"대한민국\")"
   ]
  },
  {
   "cell_type": "markdown",
   "metadata": {},
   "source": [
    "### Sync VS Async"
   ]
  },
  {
   "cell_type": "code",
   "execution_count": 9,
   "metadata": {},
   "outputs": [],
   "source": [
    "generator = Ragcar(\n",
    "    tool=\"text_generation\", \n",
    "    src=\"openai\",\n",
    "    model=\"gpt-3.5-turbo\",\n",
    "    prompt_template=PromptTemplate(\"사용자: {input} 수도는?\\nAI:\"), \n",
    "    max_tokens=100,\n",
    "    use_async=False\n",
    ")\n",
    "\n",
    "async_generator = Ragcar(\n",
    "    tool=\"text_generation\", \n",
    "    src=\"openai\",\n",
    "    model=\"gpt-3.5-turbo\",\n",
    "    prompt_template=PromptTemplate(\"사용자: {input} 수도는?\\nAI:\"), \n",
    "    max_tokens=100,\n",
    "    use_async=True\n",
    ")"
   ]
  },
  {
   "cell_type": "code",
   "execution_count": 10,
   "metadata": {},
   "outputs": [
    {
     "name": "stdout",
     "output_type": "stream",
     "text": [
      "\n",
      "-------------------------\n",
      "\n",
      "Sync\n",
      "['서울입니다.', '베이징입니다.', '도쿄입니다.']\n",
      "Total time: 2.4002315998077393\n",
      "\n",
      "-------------------------\n",
      "\n",
      "Async\n",
      "['서울입니다.', '베이징입니다.', '도쿄입니다.']\n",
      "Total time: 1.0498955249786377\n"
     ]
    }
   ],
   "source": [
    "import asyncio\n",
    "import time\n",
    "\n",
    "countries = [\"대한민국\", \"중국\", \"일본\"]\n",
    "\n",
    "print(\"\\n-------------------------\\n\")\n",
    "print(\"Sync\")\n",
    "start = time.time()\n",
    "result = [generator(input=c) for c in countries]\n",
    "end = time.time() - start\n",
    "print([i.choices[0].message.content for i in result])\n",
    "print(f\"Total time: {end}\")\n",
    "\n",
    "print(\"\\n-------------------------\\n\")\n",
    "print(\"Async\")\n",
    "start = time.time()\n",
    "tasks = [async_generator(input=c) for c in countries]\n",
    "result = await asyncio.gather(*tasks)\n",
    "end = time.time() - start\n",
    "print([i.choices[0].message.content for i in result])\n",
    "print(f\"Total time: {end}\")"
   ]
  },
  {
   "cell_type": "markdown",
   "metadata": {},
   "source": [
    "### Streaming"
   ]
  },
  {
   "cell_type": "code",
   "execution_count": 11,
   "metadata": {},
   "outputs": [],
   "source": [
    "generator = Ragcar(\n",
    "    tool=\"text_generation\", \n",
    "    src=\"openai\",\n",
    "    model=\"gpt-3.5-turbo\",\n",
    "    prompt_template=PromptTemplate(\"사용자: {input} 수도는?\\nAI:\"), \n",
    "    max_tokens=100,\n",
    "    use_async=False,\n",
    "    stream=True\n",
    ")"
   ]
  },
  {
   "cell_type": "code",
   "execution_count": 12,
   "metadata": {},
   "outputs": [
    {
     "name": "stdout",
     "output_type": "stream",
     "text": [
      "{\n",
      "  \"id\": \"openai-e3a60b6b-cd84-4ddf-8c90-42f166221bbc\",\n",
      "  \"object\": \"chat.completion.chunk\",\n",
      "  \"created\": 1710404515,\n",
      "  \"model\": \"gpt-3.5-turbo-0125\",\n",
      "  \"system_fingerprint\": \"fp_4f0b692a78\",\n",
      "  \"choices\": [\n",
      "    {\n",
      "      \"index\": 0,\n",
      "      \"delta\": {\n",
      "        \"role\": \"assistant\",\n",
      "        \"content\": \"\"\n",
      "      },\n",
      "      \"logprobs\": null,\n",
      "      \"finish_reason\": null\n",
      "    }\n",
      "  ]\n",
      "}\n",
      "{\n",
      "  \"id\": \"openai-e3a60b6b-cd84-4ddf-8c90-42f166221bbc\",\n",
      "  \"object\": \"chat.completion.chunk\",\n",
      "  \"created\": 1710404515,\n",
      "  \"model\": \"gpt-3.5-turbo-0125\",\n",
      "  \"system_fingerprint\": \"fp_4f0b692a78\",\n",
      "  \"choices\": [\n",
      "    {\n",
      "      \"index\": 0,\n",
      "      \"delta\": {\n",
      "        \"content\": \"\\uc11c\"\n",
      "      },\n",
      "      \"logprobs\": null,\n",
      "      \"finish_reason\": null\n",
      "    }\n",
      "  ]\n",
      "}\n",
      "{\n",
      "  \"id\": \"openai-e3a60b6b-cd84-4ddf-8c90-42f166221bbc\",\n",
      "  \"object\": \"chat.completion.chunk\",\n",
      "  \"created\": 1710404515,\n",
      "  \"model\": \"gpt-3.5-turbo-0125\",\n",
      "  \"system_fingerprint\": \"fp_4f0b692a78\",\n",
      "  \"choices\": [\n",
      "    {\n",
      "      \"index\": 0,\n",
      "      \"delta\": {\n",
      "        \"content\": \"\\uc6b8\"\n",
      "      },\n",
      "      \"logprobs\": null,\n",
      "      \"finish_reason\": null\n",
      "    }\n",
      "  ]\n",
      "}\n",
      "{\n",
      "  \"id\": \"openai-e3a60b6b-cd84-4ddf-8c90-42f166221bbc\",\n",
      "  \"object\": \"chat.completion.chunk\",\n",
      "  \"created\": 1710404515,\n",
      "  \"model\": \"gpt-3.5-turbo-0125\",\n",
      "  \"system_fingerprint\": \"fp_4f0b692a78\",\n",
      "  \"choices\": [\n",
      "    {\n",
      "      \"index\": 0,\n",
      "      \"delta\": {\n",
      "        \"content\": \"\\uc785\\ub2c8\\ub2e4\"\n",
      "      },\n",
      "      \"logprobs\": null,\n",
      "      \"finish_reason\": null\n",
      "    }\n",
      "  ]\n",
      "}\n",
      "{\n",
      "  \"id\": \"openai-e3a60b6b-cd84-4ddf-8c90-42f166221bbc\",\n",
      "  \"object\": \"chat.completion.chunk\",\n",
      "  \"created\": 1710404515,\n",
      "  \"model\": \"gpt-3.5-turbo-0125\",\n",
      "  \"system_fingerprint\": \"fp_4f0b692a78\",\n",
      "  \"choices\": [\n",
      "    {\n",
      "      \"index\": 0,\n",
      "      \"delta\": {\n",
      "        \"content\": \".\"\n",
      "      },\n",
      "      \"logprobs\": null,\n",
      "      \"finish_reason\": null\n",
      "    }\n",
      "  ]\n",
      "}\n",
      "{\n",
      "  \"id\": \"openai-e3a60b6b-cd84-4ddf-8c90-42f166221bbc\",\n",
      "  \"object\": \"chat.completion.chunk\",\n",
      "  \"created\": 1710404515,\n",
      "  \"model\": \"gpt-3.5-turbo-0125\",\n",
      "  \"system_fingerprint\": \"fp_4f0b692a78\",\n",
      "  \"choices\": [\n",
      "    {\n",
      "      \"index\": 0,\n",
      "      \"delta\": {},\n",
      "      \"logprobs\": null,\n",
      "      \"finish_reason\": \"stop\"\n",
      "    }\n",
      "  ]\n",
      "}\n"
     ]
    }
   ],
   "source": [
    "res = generator(input=\"대한민국\")\n",
    "\n",
    "for chunk in res:\n",
    "    print(chunk)"
   ]
  },
  {
   "cell_type": "markdown",
   "metadata": {},
   "source": [
    "##### With formatting"
   ]
  },
  {
   "cell_type": "code",
   "execution_count": 13,
   "metadata": {},
   "outputs": [],
   "source": [
    "generator = Ragcar(\n",
    "    tool=\"text_generation\", \n",
    "    src=\"openai\",\n",
    "    model=\"gpt-3.5-turbo\",\n",
    "    prompt_template=PromptTemplate(\"사용자: {input} 수도는?\\nAI:\"), \n",
    "    max_tokens=100,\n",
    "    use_async=False,\n",
    "    stream=True,\n",
    "    formatting=True\n",
    ")"
   ]
  },
  {
   "cell_type": "code",
   "execution_count": 14,
   "metadata": {},
   "outputs": [
    {
     "name": "stdout",
     "output_type": "stream",
     "text": [
      "{'id': 'openai-fe922e2d-1ad1-4ef5-9c24-3d115168499d', 'event': 'chunk', 'content': '서'}\n",
      "{'id': 'openai-fe922e2d-1ad1-4ef5-9c24-3d115168499d', 'event': 'chunk', 'content': '울'}\n",
      "{'id': 'openai-fe922e2d-1ad1-4ef5-9c24-3d115168499d', 'event': 'chunk', 'content': '입니다'}\n",
      "{'id': 'openai-fe922e2d-1ad1-4ef5-9c24-3d115168499d', 'event': 'chunk', 'content': '.'}\n",
      "{'id': 'openai-fe922e2d-1ad1-4ef5-9c24-3d115168499d', 'event': 'finish', 'data': {'id': 'openai-fe922e2d-1ad1-4ef5-9c24-3d115168499d', 'model': 'gpt-3.5-turbo', 'content': '서울입니다.', 'finish_reason': 'stop', 'input_tokens': 21, 'output_tokens': 5, 'total_tokens': 26, 'predicted_cost': 3.0999999999999995e-05, 'response_time': 0.6366674900054932}}\n"
     ]
    }
   ],
   "source": [
    "res = generator(input=\"대한민국\")\n",
    "\n",
    "for chunk in res:\n",
    "    print(chunk)"
   ]
  },
  {
   "cell_type": "markdown",
   "metadata": {},
   "source": [
    "##### With use_async"
   ]
  },
  {
   "cell_type": "code",
   "execution_count": 15,
   "metadata": {},
   "outputs": [],
   "source": [
    "generator = Ragcar(\n",
    "    tool=\"text_generation\", \n",
    "    src=\"openai\",\n",
    "    model=\"gpt-3.5-turbo\",\n",
    "    prompt_template=PromptTemplate(\"사용자: {input} 수도는?\\nAI:\"), \n",
    "    max_tokens=100,\n",
    "    use_async=True,\n",
    "    stream=True,\n",
    "    formatting=True\n",
    ")"
   ]
  },
  {
   "cell_type": "code",
   "execution_count": 16,
   "metadata": {},
   "outputs": [
    {
     "name": "stdout",
     "output_type": "stream",
     "text": [
      "{'id': 'openai-33210bc7-889e-43b2-937b-6416c995d280', 'event': 'chunk', 'content': ''}\n",
      "{'id': 'openai-33210bc7-889e-43b2-937b-6416c995d280', 'event': 'chunk', 'content': '서'}\n",
      "{'id': 'openai-33210bc7-889e-43b2-937b-6416c995d280', 'event': 'chunk', 'content': '울'}\n",
      "{'id': 'openai-33210bc7-889e-43b2-937b-6416c995d280', 'event': 'chunk', 'content': '입니다'}\n",
      "{'id': 'openai-33210bc7-889e-43b2-937b-6416c995d280', 'event': 'chunk', 'content': '.'}\n",
      "{'id': 'openai-33210bc7-889e-43b2-937b-6416c995d280', 'event': 'finish', 'data': {'id': 'openai-33210bc7-889e-43b2-937b-6416c995d280', 'model': 'gpt-3.5-turbo', 'content': '서울입니다.', 'finish_reason': 'stop', 'input_tokens': 21, 'output_tokens': 5, 'total_tokens': 26, 'predicted_cost': 3.0999999999999995e-05, 'response_time': 0.6105508804321289}}\n"
     ]
    }
   ],
   "source": [
    "res = await generator(input=\"대한민국\")\n",
    "\n",
    "async for chunk in res:\n",
    "    print(chunk)"
   ]
  },
  {
   "cell_type": "markdown",
   "metadata": {},
   "source": [
    "### Chat Prompt template"
   ]
  },
  {
   "cell_type": "code",
   "execution_count": 17,
   "metadata": {},
   "outputs": [],
   "source": [
    "import logging\n",
    "\n",
    "logging.basicConfig(level=logging.INFO)"
   ]
  },
  {
   "cell_type": "code",
   "execution_count": 18,
   "metadata": {},
   "outputs": [
    {
     "name": "stdout",
     "output_type": "stream",
     "text": [
      "Prompt template:\n",
      "[{'role': 'system', 'content': '사용자의 질문에 대한 정답만 출력합니다.'}, {'role': 'user', 'content': '사용자: 미국 수도는?'}, {'role': 'assistant', 'content': 'AI: 워싱턴'}, {'role': 'user', 'content': '사용자: {input} 수도는?'}]\n"
     ]
    }
   ],
   "source": [
    "Prompt_template = PromptTemplate(\n",
    "    user_prefix=\"사용자\", \n",
    "    assistant_prefix=\"AI\"\n",
    ")\n",
    "Prompt_template.system(\"사용자의 질문에 대한 정답만 출력합니다.\")\n",
    "Prompt_template.user(\"미국 수도는?\")\n",
    "Prompt_template.assistant(\"워싱턴\")\n",
    "Prompt_template.user(\"{input} 수도는?\")\n",
    "print(f\"Prompt template:\\n{Prompt_template.get_prompt()}\")\n",
    "\n",
    "generator = Ragcar(\n",
    "    tool=\"text_generation\", \n",
    "    src=\"openai\",\n",
    "    prompt_template=Prompt_template, \n",
    "    max_tokens=100,\n",
    "    formatting=True\n",
    ")"
   ]
  },
  {
   "cell_type": "code",
   "execution_count": 19,
   "metadata": {},
   "outputs": [
    {
     "name": "stderr",
     "output_type": "stream",
     "text": [
      "INFO:ragcar.models.base:{\n",
      "    \"id\": \"openai-92e24264-aea2-4be3-9502-8a2e2d45dfaf\",\n",
      "    \"model\": \"gpt-4-turbo-preview\",\n",
      "    \"parameters\": {\n",
      "        \"messages\": [\n",
      "            {\n",
      "                \"role\": \"system\",\n",
      "                \"content\": \"사용자의 질문에 대한 정답만 출력합니다.\"\n",
      "            },\n",
      "            {\n",
      "                \"role\": \"user\",\n",
      "                \"content\": \"사용자: 미국 수도는?\"\n",
      "            },\n",
      "            {\n",
      "                \"role\": \"assistant\",\n",
      "                \"content\": \"AI: 워싱턴\"\n",
      "            },\n",
      "            {\n",
      "                \"role\": \"user\",\n",
      "                \"content\": \"사용자: 대한민국 수도는?\\nAI: \"\n",
      "            }\n",
      "        ],\n",
      "        \"max_tokens\": 100,\n",
      "        \"temperature\": 0.0,\n",
      "        \"top_p\": 1.0,\n",
      "        \"frequency_penalty\": 0.0,\n",
      "        \"presence_penalty\": 2.0,\n",
      "        \"stream\": false\n",
      "    }\n",
      "}\n",
      "INFO:ragcar.models.base:{\n",
      "    \"id\": \"openai-92e24264-aea2-4be3-9502-8a2e2d45dfaf\",\n",
      "    \"message\": \"Request completed successfully\"\n",
      "}\n",
      "INFO:ragcar.models.openai:{\n",
      "    \"id\": \"chatcmpl-92adatYN8rfVskTLaj9aLbHpkvqbF\",\n",
      "    \"object\": \"chat.completion\",\n",
      "    \"created\": 1710404518,\n",
      "    \"model\": \"gpt-4-0125-preview\",\n",
      "    \"choices\": [\n",
      "        {\n",
      "            \"index\": 0,\n",
      "            \"message\": {\n",
      "                \"role\": \"assistant\",\n",
      "                \"content\": \"서울\"\n",
      "            },\n",
      "            \"logprobs\": null,\n",
      "            \"finish_reason\": \"stop\"\n",
      "        }\n",
      "    ],\n",
      "    \"usage\": {\n",
      "        \"prompt_tokens\": 73,\n",
      "        \"completion_tokens\": 3,\n",
      "        \"total_tokens\": 76\n",
      "    },\n",
      "    \"system_fingerprint\": \"fp_ace12ee232\"\n",
      "}\n"
     ]
    },
    {
     "data": {
      "text/plain": [
       "{'id': 'openai-92e24264-aea2-4be3-9502-8a2e2d45dfaf',\n",
       " 'model': 'gpt-4-turbo-preview',\n",
       " 'content': '서울',\n",
       " 'finish_reason': 'stop',\n",
       " 'input_tokens': 73,\n",
       " 'output_tokens': 3,\n",
       " 'total_tokens': 76,\n",
       " 'predicted_cost': 0.0023699999999999997,\n",
       " 'response_time': 0.6759653091430664}"
      ]
     },
     "execution_count": 19,
     "metadata": {},
     "output_type": "execute_result"
    }
   ],
   "source": [
    "generator(input=\"대한민국\")"
   ]
  },
  {
   "cell_type": "markdown",
   "metadata": {},
   "source": [
    "### Function calling"
   ]
  },
  {
   "cell_type": "code",
   "execution_count": 20,
   "metadata": {},
   "outputs": [],
   "source": [
    "functions=[\n",
    "    {\n",
    "        \"name\": \"retriever\",\n",
    "        \"description\": \"Retrieve relevant data based on a query\",\n",
    "        \"parameters\": {\n",
    "            \"type\": \"object\",\n",
    "            \"properties\": {\n",
    "                \"query\": {\n",
    "                    \"type\": \"string\",\n",
    "                    \"description\": \"The query to retrieve relevant data\"\n",
    "                }\n",
    "            },\n",
    "            \"required\": [\"query\"]\n",
    "        }\n",
    "    }\n",
    "]\n",
    "\n",
    "generator = Ragcar(\n",
    "    tool=\"text_generation\", \n",
    "    src=\"openai\",\n",
    "    prompt_template=PromptTemplate(\"사용자: {input} 수도는?\\nAI:\"), \n",
    "    max_tokens=100,\n",
    "    functions=functions,\n",
    "    formatting=True\n",
    ")"
   ]
  },
  {
   "cell_type": "code",
   "execution_count": 21,
   "metadata": {},
   "outputs": [
    {
     "name": "stderr",
     "output_type": "stream",
     "text": [
      "INFO:ragcar.models.base:{\n",
      "    \"id\": \"openai-d3d0f2e1-bcac-498b-9b55-5c3421268efe\",\n",
      "    \"model\": \"gpt-4-turbo-preview\",\n",
      "    \"parameters\": {\n",
      "        \"messages\": [\n",
      "            {\n",
      "                \"role\": \"user\",\n",
      "                \"content\": \"사용자: 대한민국 수도는?\\nAI:\"\n",
      "            }\n",
      "        ],\n",
      "        \"max_tokens\": 100,\n",
      "        \"temperature\": 0.0,\n",
      "        \"top_p\": 1.0,\n",
      "        \"frequency_penalty\": 0.0,\n",
      "        \"presence_penalty\": 2.0,\n",
      "        \"functions\": [\n",
      "            {\n",
      "                \"name\": \"retriever\",\n",
      "                \"description\": \"Retrieve relevant data based on a query\",\n",
      "                \"parameters\": {\n",
      "                    \"type\": \"object\",\n",
      "                    \"properties\": {\n",
      "                        \"query\": {\n",
      "                            \"type\": \"string\",\n",
      "                            \"description\": \"The query to retrieve relevant data\"\n",
      "                        }\n",
      "                    },\n",
      "                    \"required\": [\n",
      "                        \"query\"\n",
      "                    ]\n",
      "                }\n",
      "            }\n",
      "        ],\n",
      "        \"stream\": false\n",
      "    }\n",
      "}\n",
      "INFO:ragcar.models.base:{\n",
      "    \"id\": \"openai-d3d0f2e1-bcac-498b-9b55-5c3421268efe\",\n",
      "    \"message\": \"Request completed successfully\"\n",
      "}\n",
      "INFO:ragcar.models.openai:{\n",
      "    \"id\": \"chatcmpl-92adcjVLJWCBYsr5J7tQgFS0i08n4\",\n",
      "    \"object\": \"chat.completion\",\n",
      "    \"created\": 1710404520,\n",
      "    \"model\": \"gpt-4-0125-preview\",\n",
      "    \"choices\": [\n",
      "        {\n",
      "            \"index\": 0,\n",
      "            \"message\": {\n",
      "                \"role\": \"assistant\",\n",
      "                \"content\": null,\n",
      "                \"function_call\": {\n",
      "                    \"name\": \"retriever\",\n",
      "                    \"arguments\": \"{\\\"query\\\":\\\"대한민국 수도\\\"}\"\n",
      "                }\n",
      "            },\n",
      "            \"logprobs\": null,\n",
      "            \"finish_reason\": \"function_call\"\n",
      "        }\n",
      "    ],\n",
      "    \"usage\": {\n",
      "        \"prompt_tokens\": 71,\n",
      "        \"completion_tokens\": 22,\n",
      "        \"total_tokens\": 93\n",
      "    },\n",
      "    \"system_fingerprint\": \"fp_31c0f205d1\"\n",
      "}\n"
     ]
    },
    {
     "name": "stdout",
     "output_type": "stream",
     "text": [
      "{'id': 'openai-d3d0f2e1-bcac-498b-9b55-5c3421268efe', 'model': 'gpt-4-turbo-preview', 'content': <OpenAIObject at 0x7f9b487b2c50> JSON: {\n",
      "  \"role\": \"assistant\",\n",
      "  \"content\": null,\n",
      "  \"function_call\": {\n",
      "    \"name\": \"retriever\",\n",
      "    \"arguments\": \"{\\\"query\\\":\\\"\\ub300\\ud55c\\ubbfc\\uad6d \\uc218\\ub3c4\\\"}\"\n",
      "  }\n",
      "}, 'finish_reason': 'function_call', 'input_tokens': 71, 'output_tokens': 22, 'total_tokens': 93, 'predicted_cost': 0.00345, 'response_time': 3.1882152557373047}\n",
      "{\"query\":\"대한민국 수도\"}\n"
     ]
    }
   ],
   "source": [
    "action = generator(input=\"대한민국\")\n",
    "print(action)\n",
    "print(action['content'].function_call.arguments)"
   ]
  },
  {
   "cell_type": "markdown",
   "metadata": {},
   "source": [
    "### gpt-3"
   ]
  },
  {
   "cell_type": "code",
   "execution_count": 22,
   "metadata": {},
   "outputs": [],
   "source": [
    "generator = Ragcar(\n",
    "    tool=\"text_generation\", \n",
    "    src=\"openai\",\n",
    "    model=\"davinci-002\",\n",
    "    prompt_template=PromptTemplate(\"User: What is the capital of {input}?\\nAI:\"), \n",
    "    max_tokens=10,\n",
    "    stop_before=['User:', 'AI:'],\n",
    "    formatting=True\n",
    ")"
   ]
  },
  {
   "cell_type": "code",
   "execution_count": 23,
   "metadata": {},
   "outputs": [
    {
     "name": "stderr",
     "output_type": "stream",
     "text": [
      "INFO:ragcar.models.base:{\n",
      "    \"id\": \"openai-af8e6f46-4409-48b8-ba4d-f1e1e3e3d79e\",\n",
      "    \"model\": \"davinci-002\",\n",
      "    \"parameters\": {\n",
      "        \"prompt\": \"User: What is the capital of republic of korea?\\nAI:\",\n",
      "        \"max_tokens\": 10,\n",
      "        \"temperature\": 0.0,\n",
      "        \"top_p\": 1.0,\n",
      "        \"frequency_penalty\": 0.0,\n",
      "        \"presence_penalty\": 2.0,\n",
      "        \"stop\": [\n",
      "            \"User:\",\n",
      "            \"AI:\"\n",
      "        ],\n",
      "        \"stream\": false\n",
      "    }\n",
      "}\n",
      "INFO:ragcar.models.base:{\n",
      "    \"id\": \"openai-af8e6f46-4409-48b8-ba4d-f1e1e3e3d79e\",\n",
      "    \"message\": \"Request completed successfully\"\n",
      "}\n",
      "INFO:ragcar.models.openai:{\n",
      "    \"id\": \"cmpl-92adfNOD6WZFXEcDpwwsGF1oVr9nK\",\n",
      "    \"object\": \"text_completion\",\n",
      "    \"created\": 1710404523,\n",
      "    \"model\": \"davinci-002\",\n",
      "    \"choices\": [\n",
      "        {\n",
      "            \"text\": \" Seoul\\n\",\n",
      "            \"index\": 0,\n",
      "            \"logprobs\": null,\n",
      "            \"finish_reason\": \"stop\"\n",
      "        }\n",
      "    ],\n",
      "    \"usage\": {\n",
      "        \"prompt_tokens\": 14,\n",
      "        \"completion_tokens\": 2,\n",
      "        \"total_tokens\": 16\n",
      "    }\n",
      "}\n"
     ]
    },
    {
     "data": {
      "text/plain": [
       "{'id': 'openai-af8e6f46-4409-48b8-ba4d-f1e1e3e3d79e',\n",
       " 'model': 'davinci-002',\n",
       " 'content': 'Seoul',\n",
       " 'finish_reason': 'stop',\n",
       " 'input_tokens': 14,\n",
       " 'output_tokens': 2,\n",
       " 'total_tokens': 16,\n",
       " 'predicted_cost': 3.2e-05,\n",
       " 'response_time': 0.3503868579864502}"
      ]
     },
     "execution_count": 23,
     "metadata": {},
     "output_type": "execute_result"
    }
   ],
   "source": [
    "generator(input=\"republic of korea\")"
   ]
  },
  {
   "cell_type": "markdown",
   "metadata": {},
   "source": [
    "## HyperCLOVA X 모델\n",
    "`.env` 파일 또는 환경 변수로 `X-NCP-APIGW-API-KEY`, `X-NCP-CLOVASTUDIO-API-KEY`를 설정하거나 다음과 같이 직접 변수를 입력합니다. \n",
    "HyperCLOVA API 사용방법은 [여기서](https://guide.ncloud-docs.com/docs/clovastudio-playground01) 참고해주세요.\n",
    "* model_n: API URL\n",
    "* api_key: X-NCP-APIGW-API-KEY\n",
    "* app_key: X-NCP-CLOVASTUDIO-API-KEY\n",
    "\n",
    "**⚠️ 파라미터 명 변경:**\n",
    "* top_k 대신 presence_penalty를 사용해주세요.\n",
    "* repeat_penalty 대신 frequency_penalty를 사용해주세요.\n",
    "\n",
    "\n",
    "**⚠️ 파라미터 값 범위:**\n",
    "* 0.0 < temperature < 1.0\n",
    "* 0.0 < top_p < 1.0\n",
    "* 0 < presence_penalty < 128\n",
    "* 0.0 < frequency_penalty < 10.0"
   ]
  },
  {
   "cell_type": "code",
   "execution_count": 24,
   "metadata": {},
   "outputs": [
    {
     "data": {
      "text/plain": [
       "'Available fields for clova are ([field]: model_n, [type]: str), ([field]: api_key, [type]: str), ([field]: app_key, [type]: str)'"
      ]
     },
     "execution_count": 24,
     "metadata": {},
     "output_type": "execute_result"
    }
   ],
   "source": [
    "Ragcar.available_model_fields('clova')"
   ]
  },
  {
   "cell_type": "code",
   "execution_count": 25,
   "metadata": {},
   "outputs": [],
   "source": [
    "generator = Ragcar(\n",
    "    tool=\"text_generation\", \n",
    "    src=\"clova\",\n",
    "    model={\n",
    "        \"model_n\": \"https://clovastudio.stream.ntruss.com/testapp/v1/chat-completions/HCX-002\",\n",
    "        \"api_key\": os.getenv(\"X-NCP-APIGW-API-KEY\"),\n",
    "        \"app_key\": os.getenv(\"X-NCP-CLOVASTUDIO-API-KEY\")\n",
    "    },\n",
    "    prompt_template=PromptTemplate(\"사용자: {input} 수도는?\\nAI:\"), \n",
    "    max_tokens=100,\n",
    "    formatting=True\n",
    ")"
   ]
  },
  {
   "cell_type": "code",
   "execution_count": 26,
   "metadata": {},
   "outputs": [
    {
     "name": "stderr",
     "output_type": "stream",
     "text": [
      "INFO:ragcar.models.base:{\n",
      "    \"id\": \"clova-53147d01-2af4-4d41-afab-79ad9f23a11f\",\n",
      "    \"model\": \"https://clovastudio.stream.ntruss.com/testapp/v1/chat-completions/HCX-002\",\n",
      "    \"parameters\": {\n",
      "        \"messages\": [\n",
      "            {\n",
      "                \"role\": \"user\",\n",
      "                \"content\": \"사용자: 대한민국 수도는?\\nAI:\"\n",
      "            }\n",
      "        ],\n",
      "        \"maxTokens\": 100,\n",
      "        \"temperature\": 0.1,\n",
      "        \"topP\": 1.0,\n",
      "        \"topK\": 2,\n",
      "        \"repeatPenalty\": 0.1,\n",
      "        \"stopBefore\": []\n",
      "    }\n",
      "}\n",
      "INFO:ragcar.models.base:{\n",
      "    \"id\": \"clova-53147d01-2af4-4d41-afab-79ad9f23a11f\",\n",
      "    \"message\": \"Request completed successfully\"\n",
      "}\n",
      "INFO:ragcar.models.clova:{\n",
      "    \"status\": {\n",
      "        \"code\": \"20000\",\n",
      "        \"message\": \"OK\"\n",
      "    },\n",
      "    \"result\": {\n",
      "        \"message\": {\n",
      "            \"role\": \"assistant\",\n",
      "            \"content\": \"서울\"\n",
      "        },\n",
      "        \"inputLength\": 12,\n",
      "        \"outputLength\": 3,\n",
      "        \"stopReason\": \"stop_before\",\n",
      "        \"seed\": 1867422411,\n",
      "        \"aiFilter\": []\n",
      "    }\n",
      "}\n"
     ]
    },
    {
     "data": {
      "text/plain": [
       "{'id': 'clova-53147d01-2af4-4d41-afab-79ad9f23a11f',\n",
       " 'model': 'HCX-002',\n",
       " 'content': '서울',\n",
       " 'finish_reason': 'stop_before',\n",
       " 'input_tokens': 12,\n",
       " 'output_tokens': 3,\n",
       " 'total_tokens': 15,\n",
       " 'predicted_cost': 0.44999999999999996,\n",
       " 'response_time': 0.4274263381958008,\n",
       " 'ai_filter': []}"
      ]
     },
     "execution_count": 26,
     "metadata": {},
     "output_type": "execute_result"
    }
   ],
   "source": [
    "generator(input=\"대한민국\")"
   ]
  },
  {
   "cell_type": "code",
   "execution_count": 27,
   "metadata": {},
   "outputs": [],
   "source": [
    "generator = Ragcar(\n",
    "    tool=\"text_generation\", \n",
    "    src=\"clova\",\n",
    "    model=\"https://clovastudio.stream.ntruss.com/testapp/v1/chat-completions/HCX-002\",\n",
    "    prompt_template=PromptTemplate(\"사용자: {input} 수도는?\\nAI:\"), \n",
    "    max_tokens=100,\n",
    "    stream=True,\n",
    "    formatting=True\n",
    ")"
   ]
  },
  {
   "cell_type": "code",
   "execution_count": 28,
   "metadata": {},
   "outputs": [
    {
     "name": "stderr",
     "output_type": "stream",
     "text": [
      "INFO:ragcar.models.base:{\n",
      "    \"id\": \"clova-d8171a24-e5b7-4eec-a5da-acd8022c0593\",\n",
      "    \"model\": \"https://clovastudio.stream.ntruss.com/testapp/v1/chat-completions/HCX-002\",\n",
      "    \"parameters\": {\n",
      "        \"messages\": [\n",
      "            {\n",
      "                \"role\": \"user\",\n",
      "                \"content\": \"사용자: 대한민국 수도는?\\nAI:\"\n",
      "            }\n",
      "        ],\n",
      "        \"maxTokens\": 100,\n",
      "        \"temperature\": 0.1,\n",
      "        \"topP\": 1.0,\n",
      "        \"topK\": 2,\n",
      "        \"repeatPenalty\": 0.1,\n",
      "        \"stopBefore\": []\n",
      "    }\n",
      "}\n",
      "INFO:ragcar.models.base:{\n",
      "    \"id\": \"clova-d8171a24-e5b7-4eec-a5da-acd8022c0593\",\n",
      "    \"message\": \"Request completed successfully\"\n",
      "}\n"
     ]
    }
   ],
   "source": [
    "res = generator(input=\"대한민국\")\n",
    "\n",
    "for chunk in res:\n",
    "    print(chunk)"
   ]
  },
  {
   "cell_type": "markdown",
   "metadata": {},
   "source": [
    "## AI 챗봇"
   ]
  },
  {
   "cell_type": "code",
   "execution_count": 29,
   "metadata": {},
   "outputs": [],
   "source": [
    "logging.getLogger().setLevel(logging.ERROR)"
   ]
  },
  {
   "cell_type": "code",
   "execution_count": 30,
   "metadata": {},
   "outputs": [],
   "source": [
    "class SimpleChatbot:\n",
    "    def __init__(self, generator, conversation_template):\n",
    "        self.generator = generator\n",
    "        self.conversation_template = conversation_template\n",
    "\n",
    "    def ask(self, question):\n",
    "        print(self.conversation_template.format_text())\n",
    "        \n",
    "        # Generate the response using the Toolva generator\n",
    "        answer = self.generator(input=question, conversation=self.conversation_template.format_text())\n",
    "        \n",
    "        self.conversation_template.user(question)\n",
    "        self.conversation_template.assistant(answer['content'])\n",
    "        \n",
    "        return answer"
   ]
  },
  {
   "cell_type": "code",
   "execution_count": 31,
   "metadata": {},
   "outputs": [],
   "source": [
    "prompt_template = PromptTemplate(user_prefix=\"Q\", assistant_prefix=\"A\")\n",
    "prompt_template.system((\n",
    "    \"너는 AI 여행 플래너야. 사용자의 질문에 대한 적절한 답변을 생성해\\n\\n\"\n",
    "    \"conversation:\\n\"\n",
    "    \"{conversation}\"\n",
    "))\n",
    "prompt_template.user(\"{input}\")\n",
    "\n",
    "generator = Ragcar(\n",
    "    tool=\"text_generation\", \n",
    "    src=\"openai\",\n",
    "    model=\"gpt-3.5-turbo\",\n",
    "    prompt_template=prompt_template, \n",
    "    max_tokens=300,\n",
    "    formatting=True\n",
    ")\n",
    "\n",
    "conversation_template = PromptTemplate(user_prefix=\"Q\", assistant_prefix=\"A\")\n",
    "\n",
    "chatbot = SimpleChatbot(generator, conversation_template)"
   ]
  },
  {
   "cell_type": "code",
   "execution_count": 32,
   "metadata": {},
   "outputs": [
    {
     "name": "stdout",
     "output_type": "stream",
     "text": [
      "\n"
     ]
    },
    {
     "data": {
      "text/plain": [
       "{'id': 'openai-96b5fe37-ebc2-4c49-b07e-98143fff74a2',\n",
       " 'model': 'gpt-3.5-turbo',\n",
       " 'content': '요즘 여행하기 좋은 곳은 자연 속으로 힐링을 즐길 수 있는 여행지입니다. 예를 들어 국내에서는 강원도의 평창이나 제주도, 해외로는 뉴질랜드의 풍부한 자연 경치가 매력적인 여행지일 수 있습니다. 원하는 여행 스타일과 관심사에 맞게 선택하시면 좋을 것 같아요.',\n",
       " 'finish_reason': 'stop',\n",
       " 'input_tokens': 73,\n",
       " 'output_tokens': 135,\n",
       " 'total_tokens': 208,\n",
       " 'predicted_cost': 0.000343,\n",
       " 'response_time': 3.0994982719421387}"
      ]
     },
     "execution_count": 32,
     "metadata": {},
     "output_type": "execute_result"
    }
   ],
   "source": [
    "chatbot.ask(\"요즘 여행가기 어디가 좋을까?\")"
   ]
  },
  {
   "cell_type": "code",
   "execution_count": 33,
   "metadata": {},
   "outputs": [
    {
     "name": "stdout",
     "output_type": "stream",
     "text": [
      "Q: 요즘 여행가기 어디가 좋을까?\n",
      "A: 요즘 여행하기 좋은 곳은 자연 속으로 힐링을 즐길 수 있는 여행지입니다. 예를 들어 국내에서는 강원도의 평창이나 제주도, 해외로는 뉴질랜드의 풍부한 자연 경치가 매력적인 여행지일 수 있습니다. 원하는 여행 스타일과 관심사에 맞게 선택하시면 좋을 것 같아요.\n"
     ]
    },
    {
     "data": {
      "text/plain": [
       "{'id': 'openai-b2a1b959-5d72-45f7-bcb0-6920af2265fb',\n",
       " 'model': 'gpt-3.5-turbo',\n",
       " 'content': '여름에 먹는 것을 즐기며 여행하기 좋은 곳으로는 해안가나 섬이 있는 지역이 좋을 수 있어요. 국내에서는 부산의 맛집 투어나 제주도의 해산물 요리를 즐길 수 있고, 해외로는 태국의 방콕이나 이탈리아의 시칠리아 섬 등이 추천됩니다. 현지 음식을 맛보면서 여행을 즐기는 건 어떨까요?',\n",
       " 'finish_reason': 'stop',\n",
       " 'input_tokens': 232,\n",
       " 'output_tokens': 155,\n",
       " 'total_tokens': 387,\n",
       " 'predicted_cost': 0.000542,\n",
       " 'response_time': 3.5681326389312744}"
      ]
     },
     "execution_count": 33,
     "metadata": {},
     "output_type": "execute_result"
    }
   ],
   "source": [
    "chatbot.ask(\"여름에 갈거고 나는 먹는걸 좋아해\")"
   ]
  },
  {
   "cell_type": "markdown",
   "metadata": {},
   "source": [
    "### RAG(Retrieval-Augmented Generation)"
   ]
  },
  {
   "cell_type": "markdown",
   "metadata": {},
   "source": [
    "#### Data\n",
    "* 한국관광공사_무장애 여행 정보_GW(https://www.data.go.kr/data/15101897/openapi.do)"
   ]
  },
  {
   "cell_type": "code",
   "execution_count": 34,
   "metadata": {},
   "outputs": [
    {
     "data": {
      "text/html": [
       "<div>\n",
       "<style scoped>\n",
       "    .dataframe tbody tr th:only-of-type {\n",
       "        vertical-align: middle;\n",
       "    }\n",
       "\n",
       "    .dataframe tbody tr th {\n",
       "        vertical-align: top;\n",
       "    }\n",
       "\n",
       "    .dataframe thead th {\n",
       "        text-align: right;\n",
       "    }\n",
       "</style>\n",
       "<table border=\"1\" class=\"dataframe\">\n",
       "  <thead>\n",
       "    <tr style=\"text-align: right;\">\n",
       "      <th></th>\n",
       "      <th>contentid</th>\n",
       "      <th>title</th>\n",
       "      <th>corpus</th>\n",
       "    </tr>\n",
       "  </thead>\n",
       "  <tbody>\n",
       "    <tr>\n",
       "      <th>0</th>\n",
       "      <td>1433504</td>\n",
       "      <td>가경 터미널시장</td>\n",
       "      <td>가경 터미널시장, 충북 청주시 흥덕구 가경동에 위치한 상설 재래시장이다. 논밭이었던...</td>\n",
       "    </tr>\n",
       "    <tr>\n",
       "      <th>1</th>\n",
       "      <td>126273</td>\n",
       "      <td>가계해변</td>\n",
       "      <td>가계해변, 바닷물이 갈라지는 현대판 모세의 기적으로 유명한 회동국민관광지 내에 있는...</td>\n",
       "    </tr>\n",
       "    <tr>\n",
       "      <th>2</th>\n",
       "      <td>129854</td>\n",
       "      <td>가나아트센터</td>\n",
       "      <td>가나아트센터, 1983년에 개관한 가나아트갤러리는 국내외 3백여 회의 기획전시 및 ...</td>\n",
       "    </tr>\n",
       "    <tr>\n",
       "      <th>3</th>\n",
       "      <td>129194</td>\n",
       "      <td>가나아트파크</td>\n",
       "      <td>가나아트파크, 가나아트파크(전, 장흥아트파크)는 1984년 국내 최초 사립미술관인 ...</td>\n",
       "    </tr>\n",
       "    <tr>\n",
       "      <th>4</th>\n",
       "      <td>2777865</td>\n",
       "      <td>가남체육공원</td>\n",
       "      <td>가남체육공원, 가남체육공원은 가남면 태평리에 위치한 주민들을 위한 다목적 체육활동 ...</td>\n",
       "    </tr>\n",
       "    <tr>\n",
       "      <th>...</th>\n",
       "      <td>...</td>\n",
       "      <td>...</td>\n",
       "      <td>...</td>\n",
       "    </tr>\n",
       "    <tr>\n",
       "      <th>5280</th>\n",
       "      <td>1839801</td>\n",
       "      <td>[제주올레 14코스] 저지-한림 올레</td>\n",
       "      <td>[제주올레 14코스] 저지-한림 올레, 고요하고 아늑한 초록의 숲길 올레와 시원하게...</td>\n",
       "    </tr>\n",
       "    <tr>\n",
       "      <th>5281</th>\n",
       "      <td>1839536</td>\n",
       "      <td>[제주올레 4코스] 표선-남원 올레</td>\n",
       "      <td>[제주올레 4코스] 표선-남원 올레, 눈부신 백사장에서 시작되는 아름다운 해안 올레...</td>\n",
       "    </tr>\n",
       "    <tr>\n",
       "      <th>5282</th>\n",
       "      <td>1839552</td>\n",
       "      <td>[제주올레 5코스] 남원-쇠소깍 올레</td>\n",
       "      <td>[제주올레 5코스] 남원-쇠소깍 올레, 오감을 활짝 열고 걷는 바당올레와 마을 올레...</td>\n",
       "    </tr>\n",
       "    <tr>\n",
       "      <th>5283</th>\n",
       "      <td>1839621</td>\n",
       "      <td>[제주올레 6코스] 쇠소깍-제주올레 여행자센터 올레</td>\n",
       "      <td>[제주올레 6코스] 쇠소깍-제주올레 여행자센터 올레, 쇠소깍 다리를 출발하여 서귀포...</td>\n",
       "    </tr>\n",
       "    <tr>\n",
       "      <th>5284</th>\n",
       "      <td>1839701</td>\n",
       "      <td>[제주올레 8코스] 월평-대평 올레</td>\n",
       "      <td>[제주올레 8코스] 월평-대평 올레, 짙푸른 바다를 따라가는 바당 올레 코스다. 바...</td>\n",
       "    </tr>\n",
       "  </tbody>\n",
       "</table>\n",
       "<p>5285 rows × 3 columns</p>\n",
       "</div>"
      ],
      "text/plain": [
       "      contentid                         title  \\\n",
       "0       1433504                      가경 터미널시장   \n",
       "1        126273                          가계해변   \n",
       "2        129854                        가나아트센터   \n",
       "3        129194                        가나아트파크   \n",
       "4       2777865                        가남체육공원   \n",
       "...         ...                           ...   \n",
       "5280    1839801          [제주올레 14코스] 저지-한림 올레   \n",
       "5281    1839536           [제주올레 4코스] 표선-남원 올레   \n",
       "5282    1839552          [제주올레 5코스] 남원-쇠소깍 올레   \n",
       "5283    1839621  [제주올레 6코스] 쇠소깍-제주올레 여행자센터 올레   \n",
       "5284    1839701           [제주올레 8코스] 월평-대평 올레   \n",
       "\n",
       "                                                 corpus  \n",
       "0     가경 터미널시장, 충북 청주시 흥덕구 가경동에 위치한 상설 재래시장이다. 논밭이었던...  \n",
       "1     가계해변, 바닷물이 갈라지는 현대판 모세의 기적으로 유명한 회동국민관광지 내에 있는...  \n",
       "2     가나아트센터, 1983년에 개관한 가나아트갤러리는 국내외 3백여 회의 기획전시 및 ...  \n",
       "3     가나아트파크, 가나아트파크(전, 장흥아트파크)는 1984년 국내 최초 사립미술관인 ...  \n",
       "4     가남체육공원, 가남체육공원은 가남면 태평리에 위치한 주민들을 위한 다목적 체육활동 ...  \n",
       "...                                                 ...  \n",
       "5280  [제주올레 14코스] 저지-한림 올레, 고요하고 아늑한 초록의 숲길 올레와 시원하게...  \n",
       "5281  [제주올레 4코스] 표선-남원 올레, 눈부신 백사장에서 시작되는 아름다운 해안 올레...  \n",
       "5282  [제주올레 5코스] 남원-쇠소깍 올레, 오감을 활짝 열고 걷는 바당올레와 마을 올레...  \n",
       "5283  [제주올레 6코스] 쇠소깍-제주올레 여행자센터 올레, 쇠소깍 다리를 출발하여 서귀포...  \n",
       "5284  [제주올레 8코스] 월평-대평 올레, 짙푸른 바다를 따라가는 바당 올레 코스다. 바...  \n",
       "\n",
       "[5285 rows x 3 columns]"
      ]
     },
     "execution_count": 34,
     "metadata": {},
     "output_type": "execute_result"
    }
   ],
   "source": [
    "import pandas as pd\n",
    "\n",
    "data = pd.read_csv(\"corpus_sample.csv\")\n",
    "data"
   ]
  },
  {
   "cell_type": "code",
   "execution_count": 35,
   "metadata": {},
   "outputs": [],
   "source": [
    "encoder = Ragcar(tool=\"sentence_embedding\", src=\"model_name_or_path\", model=\"leewaay/klue-roberta-large-klueNLI-klueSTS-MSL512\")\n",
    "embeddings = encoder(data[\"corpus\"].tolist(), batch_size=100, convert_to_tensor=True)"
   ]
  },
  {
   "cell_type": "code",
   "execution_count": 36,
   "metadata": {},
   "outputs": [],
   "source": [
    "class RagChatbotAgent:\n",
    "    def __init__(\n",
    "        self, \n",
    "        candidates, \n",
    "        embeddings, \n",
    "        retriever, \n",
    "        conversation_template\n",
    "    ):\n",
    "        self.candidates = candidates\n",
    "        self.embeddings = embeddings\n",
    "        self.retriever = retriever\n",
    "        self.conversation_template = conversation_template\n",
    "\n",
    "    def ask(self, question, generator):\n",
    "        hits = self.retriever(question, self.embeddings, top_k=5, m1in_score=0.3)[0]\n",
    "        data = '\\n'.join([str(self.candidates.iloc[hit['corpus_id']].to_dict()) for hit in hits])\n",
    "        \n",
    "        # Generate the response using the Toolva generator\n",
    "        answer = generator(input=question, data=data, conversation=self.conversation_template.format_text())\n",
    "        \n",
    "        return answer"
   ]
  },
  {
   "cell_type": "code",
   "execution_count": 37,
   "metadata": {},
   "outputs": [],
   "source": [
    "retriever = Ragcar(tool=\"semantic_search\", src=\"model_name_or_path\", model=\"leewaay/klue-roberta-large-klueNLI-klueSTS-MSL512\")\n",
    "conversation_template = PromptTemplate(user_prefix=\"Q\", assistant_prefix=\"A\")\n",
    "\n",
    "chatbot = RagChatbotAgent(data, embeddings, retriever, conversation_template)"
   ]
  },
  {
   "cell_type": "markdown",
   "metadata": {},
   "source": [
    "#### OpenAI VS HyperCLOVA X"
   ]
  },
  {
   "cell_type": "code",
   "execution_count": 40,
   "metadata": {},
   "outputs": [],
   "source": [
    "# Prompt\n",
    "prompt_template = PromptTemplate(user_prefix=\"Q\", assistant_prefix=\"A\")\n",
    "prompt_template.system((\n",
    "    \"너는 AI 여행 플래너야. data를 기반으로 사용자의 질문에 대한 적절한 답변을 생성해\\n\\n\"\n",
    "    \"data:\\n\"\n",
    "    \"{data}\\n\\n\"\n",
    "    \"conversation:\\n\"\n",
    "    \"{conversation}\"\n",
    "))\n",
    "prompt_template.user((\n",
    "    \"{input}\"\n",
    "))\n",
    "\n",
    "# Models\n",
    "openai = Ragcar(\n",
    "    tool=\"text_generation\", \n",
    "    src=\"openai\",\n",
    "    model=\"gpt-3.5-turbo\",\n",
    "    prompt_template=prompt_template, \n",
    "    max_tokens=1000,\n",
    "    formatting=True\n",
    ")\n",
    "\n",
    "clovax = Ragcar(\n",
    "    tool=\"text_generation\", \n",
    "    src=\"clova\",\n",
    "    model=\"https://clovastudio.stream.ntruss.com/testapp/v1/chat-completions/HCX-003\",\n",
    "    prompt_template=prompt_template, \n",
    "    max_tokens=1000,\n",
    "    temperature=0.1,\n",
    "    top_p=0.9,\n",
    "    frequency_penalty=1,\n",
    "    formatting=True\n",
    ")"
   ]
  },
  {
   "cell_type": "code",
   "execution_count": 41,
   "metadata": {},
   "outputs": [
    {
     "name": "stdout",
     "output_type": "stream",
     "text": [
      "\n",
      "-------------------------\n",
      "\n",
      "OpenAI Answer\n",
      "{'id': 'openai-876c2036-0cde-4167-9e26-876c72348459', 'model': 'gpt-3.5-turbo', 'content': '부산 여행을 계획 중이시군요! 부산에는 다양한 관광지가 있지만, 몇 가지 추천해 드릴게요. 해운대해수욕장은 부산을 대표하는 명소로 유명하며, 넓고 아름다운 백사장과 세련된 분위기의 해안선이 인상적입니다. 또한, 해운대 달맞이길은 부산에서 가장 유명한 드라이브 코스로서 푸른 바다와 동백숲이 어우러진 풍경을 감상할 수 있습니다. 마지막으로, 부산 스마트시티 전시관은 부산의 스마트시티 서비스를 체험할 수 있는 장소로 현대적인 기술을 경험해볼 수 있어요. 부산뷰호텔도 신개념의 비즈니스 모텔로 편안하고 즐거운 여행을 즐길 수 있을 거예요. 부산 여행을 즐겁게 계획해보세요!', 'finish_reason': 'stop', 'input_tokens': 2811, 'output_tokens': 327, 'total_tokens': 3138, 'predicted_cost': 0.0034649999999999998, 'response_time': 6.1814284324646}\n",
      "\n",
      "-------------------------\n",
      "\n",
      "HyperCLOVA X Answer\n",
      "{'id': 'clova-d1a5308a-6b0c-4e82-8aef-3b53aa3b9cd2', 'model': 'HCX-003', 'content': '부산은 아름다운 자연 경관과 다양한 관광 명소가 있어 여행객들에게 인기 있는 도시입니다. 부산 여행지 추천해드리겠습니다.\\n\\n1.**해운대 해수욕장**: 부산의 대표적인 해수욕장으로, 백사장과 아름다운 해안선을 자랑합니다. 해수욕뿐만 아니라 다양한 축제와 행사도 열려 즐길거리가 많습니다.\\n\\n2.**더베이101**: 해운대에 위치한 복합문화공간으로 야경이 아름다운 곳입니다. 바다와 산 그리고 현대적인 건물들이 공존하는 공간에서 문화와 예술을 즐길 수 있습니다.\\n\\n3.**부산 스마트시티 전시관**:  부산 스마트시티 전시관은 부산시가 추진하고 있는 스마트시티 서비스를 체험할 수 있는 공간으로 다양한 체험 서비스를 즐길 수 있습니다.\\n\\n4.**부산뷰호텔**:  부산역 바로 옆에 위치하고 있으며 부산항이 내려다 보이는 탁 트인 전망과 역동적인 야경이 더욱더 편안하고 즐거운 여행을 선사합니다.\\n\\n5.**해운대 달맞이길**: 부산에서 가장 유명한 드라이브 코스입니다. 푸른 바다, 백사장, 동백숲, 소나무숲이 어우러진 절경을 감상할 수 있으며, 달맞이길을 따라 산책을 즐길 수도 있습니다.\\n\\n부산은 이 외에도 다양한 여행지가 있습니다. 여행의 목적과 취향에 따라 여행지를 선택해 즐거운 부산 여행을 즐기시길 바랍니다', 'finish_reason': 'stop_before', 'input_tokens': 1312, 'output_tokens': 272, 'total_tokens': 1584, 'predicted_cost': 47.519999999999996, 'response_time': 12.419760704040527, 'ai_filter': []}\n"
     ]
    }
   ],
   "source": [
    "question = \"부산 여행지 추천해줘\"\n",
    "\n",
    "print(\"\\n-------------------------\\n\")\n",
    "print(\"OpenAI Answer\")\n",
    "print(chatbot.ask(question, openai))\n",
    "\n",
    "print(\"\\n-------------------------\\n\")\n",
    "print(\"HyperCLOVA X Answer\")\n",
    "print(chatbot.ask(question, clovax))"
   ]
  }
 ],
 "metadata": {
  "kernelspec": {
   "display_name": "rens",
   "language": "python",
   "name": "python3"
  },
  "language_info": {
   "codemirror_mode": {
    "name": "ipython",
    "version": 3
   },
   "file_extension": ".py",
   "mimetype": "text/x-python",
   "name": "python",
   "nbconvert_exporter": "python",
   "pygments_lexer": "ipython3",
   "version": "3.10.13"
  },
  "orig_nbformat": 4,
  "vscode": {
   "interpreter": {
    "hash": "a545914905f7133bd9391d6777e0ef03369109a34050a83c08d63903eaf0a072"
   }
  }
 },
 "nbformat": 4,
 "nbformat_minor": 2
}
